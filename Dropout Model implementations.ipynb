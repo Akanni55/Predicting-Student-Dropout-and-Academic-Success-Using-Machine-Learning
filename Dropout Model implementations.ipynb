{
  "nbformat": 4,
  "nbformat_minor": 0,
  "metadata": {
    "colab": {
      "provenance": []
    },
    "kernelspec": {
      "name": "python3",
      "display_name": "Python 3"
    },
    "language_info": {
      "name": "python"
    }
  },
  "cells": [
    {
      "cell_type": "code",
      "execution_count": 1,
      "metadata": {
        "id": "bokBzssX_iIB"
      },
      "outputs": [],
      "source": [
        "# Loading up Libraries\n",
        "import pandas as pd\n",
        "import matplotlib.pyplot as plt\n",
        "import seaborn as sns\n",
        "import math\n",
        "import scipy.stats as stats\n",
        "import numpy as np\n",
        "from sklearn.preprocessing import LabelEncoder, StandardScaler\n",
        "from sklearn.preprocessing import OneHotEncoder\n",
        "from imblearn.over_sampling import SMOTE\n",
        "from sklearn.linear_model import LogisticRegression\n",
        "from sklearn.ensemble import StackingClassifier\n",
        "from sklearn.svm import SVC\n",
        "from sklearn.tree import DecisionTreeClassifier\n",
        "from sklearn.ensemble import RandomForestClassifier\n",
        "from sklearn.model_selection import train_test_split, cross_validate\n",
        "from sklearn.metrics import accuracy_score, precision_score, recall_score, f1_score, classification_report, confusion_matrix\n",
        "from sklearn.model_selection import GridSearchCV\n"
      ]
    },
    {
      "cell_type": "code",
      "source": [
        "# Loading Dataset\n",
        "df = pd.read_csv('student dropout.csv')\n",
        "\n",
        "# Displaying first few rows\n",
        "print(df.head(50))"
      ],
      "metadata": {
        "id": "o4qT7xse_o0Z"
      },
      "execution_count": null,
      "outputs": []
    },
    {
      "cell_type": "code",
      "source": [
        "# Checking for missing values\n",
        "print(df.isnull().sum())"
      ],
      "metadata": {
        "id": "nyhJmtiiqC7d"
      },
      "execution_count": null,
      "outputs": []
    },
    {
      "cell_type": "code",
      "source": [
        "# dropping variables we dont need\n",
        "non_beneficial_columns = [\n",
        "    'Nacionality',\n",
        "    'Educational special needs',\n",
        "    'Inflation rate',\n",
        "    'Mother\\'s qualification',\n",
        "    'Curricular units 1st sem (without evaluations)',\n",
        "    'Marital status',\n",
        "    'Previous qualification',\n",
        "    'Curricular units 2nd sem (without evaluations)',\n",
        "    'Application mode',\n",
        "    'Unemployment rate',\n",
        "    'Course',\n",
        "    'International',\n",
        "    'Father\\'s qualification',\n",
        "    'Mother\\'s occupation',\n",
        "    'Father\\'s occupation',\n",
        "    'Application order',\n",
        "    'Curricular units 1st sem (evaluations)',\n",
        "    'Curricular units 1st sem (credited)',\n",
        "    'Curricular units 2nd sem (credited)',\n",
        "    'Curricular units 2nd sem (evaluations)',\n",
        "    'Curricular units 1st sem (enrolled)',\n",
        "    'Curricular units 2nd sem (enrolled)',\n",
        "    'Curricular units 1st sem (approved)',\n",
        "    'Curricular units 2nd sem (approved)',\n",
        "    'Daytime/evening attendance'\n",
        "]\n",
        "\n",
        "# Drop the non-beneficial columns from the dataframe\n",
        "df.drop(columns=non_beneficial_columns, inplace=True)\n",
        "\n",
        "print(df.info())"
      ],
      "metadata": {
        "id": "tgpj104TYGaH"
      },
      "execution_count": null,
      "outputs": []
    },
    {
      "cell_type": "code",
      "source": [
        "# Updating 'Target' column to change 'Graduate' and 'enrolled' to 'still enrolled'\n",
        "df['Target'] = df['Target'].replace(['Graduate', 'Enrolled'], 'Still enrolled')\n",
        "\n",
        "# Display the updated DataFrame\n",
        "print(df.head(100))\n"
      ],
      "metadata": {
        "id": "5VLuiyzN6rBJ"
      },
      "execution_count": null,
      "outputs": []
    },
    {
      "cell_type": "code",
      "source": [
        "# Encoding 'df' for models\n",
        "\n",
        "# Verify the current state of df\n",
        "print(\"Current state of df:\")\n",
        "print(df.head())\n",
        "\n",
        "# Check unique values in the Target column\n",
        "print(\"Unique values in the Target column before encoding:\", df['Target'].unique())\n",
        "\n",
        "# Custom encoding for Target column: Dropout = 0, Enrolled and Graduate = 1\n",
        "df['Target'] = df['Target'].apply(lambda x: 0 if x == 'Dropout' else 1)\n",
        "\n",
        "# Check unique values in the Target column after encoding\n",
        "print(\"Unique values in the Target column after encoding:\", df['Target'].unique())\n",
        "\n",
        "# Feature Scaling for numerical columns\n",
        "numeric_columns = ['Age at enrollment', 'Curricular units 1st sem (grade)', 'Curricular units 2nd sem (grade)', 'GDP']\n",
        "scaler = StandardScaler()\n",
        "df[numeric_columns] = scaler.fit_transform(df[numeric_columns])\n",
        "\n",
        "# Display basic information about the dataframe to confirm changes\n",
        "print(df.info())\n",
        "\n",
        "# Display the first few rows to verify the transformations\n",
        "print(df.head())\n"
      ],
      "metadata": {
        "id": "SkeD9Ny4owo2"
      },
      "execution_count": null,
      "outputs": []
    },
    {
      "cell_type": "code",
      "source": [
        "# Statistical summary for numerical features\n",
        "numerical_summary = df.describe()\n",
        "print(\"Numerical Summary:\\n\", numerical_summary)\n"
      ],
      "metadata": {
        "id": "_Rtq_lwFUF7F"
      },
      "execution_count": null,
      "outputs": []
    },
    {
      "cell_type": "code",
      "source": [
        "# Histograms for numerical features\n",
        "numerical_columns = ['Age at enrollment', 'Curricular units 1st sem (grade)', 'Curricular units 2nd sem (grade)', 'GDP']\n",
        "\n",
        "plt.figure(figsize=(12, 10))\n",
        "for i, col in enumerate(numerical_columns):\n",
        "    plt.subplot(2, 2, i + 1)\n",
        "    sns.histplot(df[col], kde=True)\n",
        "    plt.title(f'Histogram of {col}')\n",
        "plt.tight_layout()\n",
        "plt.show()"
      ],
      "metadata": {
        "id": "TfxvE1YZVEiM"
      },
      "execution_count": null,
      "outputs": []
    },
    {
      "cell_type": "code",
      "source": [
        "# Box plots for numerical features\n",
        "plt.figure(figsize=(12, 10))\n",
        "for i, col in enumerate(numerical_columns):\n",
        "    plt.subplot(2, 2, i + 1)\n",
        "    sns.boxplot(x=df[col])\n",
        "    plt.title(f'Box Plot of {col}')\n",
        "plt.tight_layout()\n",
        "plt.show()"
      ],
      "metadata": {
        "id": "Z_FJiE8in5Mm"
      },
      "execution_count": null,
      "outputs": []
    },
    {
      "cell_type": "code",
      "source": [
        "# Percentage distribution for categorical variables\n",
        "# I firstly identify potential categorical columns\n",
        "potential_categoricals = [col for col in df.columns if df[col].nunique() < 10 and col != 'Target']\n",
        "\n",
        "# Display identified categorical columns\n",
        "print(\"Potential Categorical Columns:\", potential_categoricals)\n",
        "\n",
        "for column in potential_categoricals:\n",
        "    print(f\"\\nDistribution for {column}:\")\n",
        "    print(df[column].value_counts())\n",
        "    print(df[column].value_counts(normalize=True) * 100)\n"
      ],
      "metadata": {
        "id": "EoKTcI6Akg4K"
      },
      "execution_count": null,
      "outputs": []
    },
    {
      "cell_type": "code",
      "source": [
        "# Bar plots for categorical features against the Target\n",
        "\n",
        "categorical_columns = potential_categoricals  # Assuming these are the same as potential_categoricals\n",
        "\n",
        "# Bar plots for categorical features against the Target\n",
        "plt.figure(figsize=(15, 12))\n",
        "for i, col in enumerate(categorical_columns):\n",
        "    plt.subplot(3, 2, i + 1)\n",
        "    sns.countplot(x=col, hue='Target', data=df)\n",
        "    plt.title(f'{col} vs Target')\n",
        "plt.tight_layout()\n",
        "plt.show()"
      ],
      "metadata": {
        "id": "qBoy8HplRDKW"
      },
      "execution_count": null,
      "outputs": []
    },
    {
      "cell_type": "code",
      "source": [
        "# Detailed statistics for continuous variables\n",
        "continuous_columns = [ 'GDP']  # Example continuous variables\n",
        "continuous_stats = {column: {\n",
        "    'Mean': df[column].mean(),\n",
        "    'Median': df[column].median(),\n",
        "    'Mode': df[column].mode()[0],  # Mode can have multiple values; we take the first one\n",
        "    'Standard Deviation': df[column].std(),\n",
        "    'Variance': df[column].var(),\n",
        "    'Range': (df[column].min(), df[column].max()),\n",
        "    'Skewness': stats.skew(df[column]),\n",
        "    'Kurtosis': stats.kurtosis(df[column])\n",
        "} for column in continuous_columns}\n",
        "print(\"Continuous Variables Statistics:\\n\", continuous_stats)"
      ],
      "metadata": {
        "id": "-qSsSfehcVui",
        "colab": {
          "base_uri": "https://localhost:8080/"
        },
        "outputId": "b93251cc-39cd-40ea-902e-5a23296e1a8d"
      },
      "execution_count": 131,
      "outputs": [
        {
          "output_type": "stream",
          "name": "stdout",
          "text": [
            "Continuous Variables Statistics:\n",
            " {'GDP': {'Mean': 2.5697748128755883e-17, 'Median': 0.14012166938988344, 'Mode': 0.14012166938988344, 'Standard Deviation': 1.0001130390553545, 'Variance': 1.0002260908885372, 'Range': (-1.7896667428492534, 1.545606837207885), 'Skewness': -0.393934581721279, 'Kurtosis': -1.001877468014888}}\n"
          ]
        }
      ]
    },
    {
      "cell_type": "code",
      "source": [
        "# Correlation matrix\n",
        "correlation_matrix = df.corr()\n",
        "plt.figure(figsize=(12, 8))\n",
        "sns.heatmap(correlation_matrix, annot=True, cmap='coolwarm')\n",
        "plt.title('Correlation Matrix')\n",
        "plt.show()\n"
      ],
      "metadata": {
        "id": "scDj9z4EVJbw",
        "colab": {
          "base_uri": "https://localhost:8080/",
          "height": 911
        },
        "outputId": "2b55d3b1-1b4c-485c-b658-7598cf2d7a9f"
      },
      "execution_count": 14,
      "outputs": [
        {
          "output_type": "display_data",
          "data": {
            "text/plain": [
              "<Figure size 1200x800 with 2 Axes>"
            ],
            "image/png": "[encoded data removed]"
          },
          "metadata": {}
        }
      ]
    },
    {
      "cell_type": "code",
      "source": [
        "#Examine Data Distribution to begin our check on bias and imbalance\n",
        "\n",
        "# Display the distribution of the target variable\n",
        "target_distribution = df['Target'].value_counts(normalize=True)\n",
        "print(\"Distribution of the Target Variable:\\n\", target_distribution)\n",
        "\n",
        "# Plot the distribution of the target variablE\n",
        "plt.figure(figsize=(8, 6))\n",
        "sns.countplot(x='Target', data=df)\n",
        "plt.title('Distribution of Target Variable')\n",
        "plt.show()\n"
      ],
      "metadata": {
        "id": "WpjM1JnobQ8a"
      },
      "execution_count": null,
      "outputs": []
    },
    {
      "cell_type": "code",
      "source": [
        "# Display the distribution of the gender attribute\n",
        "gender_distribution = df['Gender'].value_counts(normalize=True)\n",
        "print(\"Gender Distribution in the Dataset:\\n\", gender_distribution)\n",
        "\n",
        "# Plot the distribution of the gender attribute\n",
        "plt.figure(figsize=(8, 6))\n",
        "sns.countplot(x='Gender', data=df)\n",
        "plt.title('Distribution of Gender')\n",
        "plt.show()\n"
      ],
      "metadata": {
        "colab": {
          "base_uri": "https://localhost:8080/",
          "height": 660
        },
        "id": "c8uY6x5mbfYE",
        "outputId": "2e000578-8619-49b6-c187-283e060c7b81"
      },
      "execution_count": 134,
      "outputs": [
        {
          "output_type": "stream",
          "name": "stdout",
          "text": [
            "Gender Distribution in the Dataset:\n",
            " Gender\n",
            "0    0.648282\n",
            "1    0.351718\n",
            "Name: proportion, dtype: float64\n"
          ]
        },
        {
          "output_type": "display_data",
          "data": {
            "text/plain": [
              "<Figure size 800x600 with 1 Axes>"
            ],
            "image/png": "[encoded data removed]"
          },
          "metadata": {}
        }
      ]
    },
    {
      "cell_type": "code",
      "source": [
        "# Display the distribution of the age attribute\n",
        "age_distribution = df['Age at enrollment'].describe()\n",
        "print(\"Age Distribution in the Dataset:\\n\", age_distribution)\n",
        "\n",
        "# Plot the distribution of the age attribute\n",
        "plt.figure(figsize=(8, 6))\n",
        "sns.histplot(df['Age at enrollment'], bins=20, kde=True)\n",
        "plt.title('Distribution of Age at Enrollment')\n",
        "plt.show()\n"
      ],
      "metadata": {
        "id": "QnLflbwnbfSd"
      },
      "execution_count": null,
      "outputs": []
    },
    {
      "cell_type": "code",
      "source": [
        "# Distribution of target variable by gender\n",
        "target_by_gender = pd.crosstab(df['Gender'], df['Target'], normalize='index')\n",
        "print(\"\\nTarget Distribution by Gender:\\n\", target_by_gender)\n",
        "\n",
        "# Plot the distribution of the target variable by gender\n",
        "plt.figure(figsize=(8, 6))\n",
        "sns.countplot(x='Target', hue='Gender', data=df)\n",
        "plt.title('Target Distribution by Gender')\n",
        "plt.show()\n"
      ],
      "metadata": {
        "id": "ZQNDf9KwbfI1"
      },
      "execution_count": null,
      "outputs": []
    },
    {
      "cell_type": "code",
      "source": [
        "# Create age groups with better coverage\n",
        "df2 = df.copy()\n",
        "\n",
        "df2['Age Group'] = pd.cut(df['Age at enrollment'], bins=[-1, 0, 1, 2, 3, 4, 5, 6, 7], labels=['<18', '18-25', '26-35', '36-45', '46-55', '56-65', '65-75', '>75'])\n",
        "\n",
        "# Check the unique values in the 'Age Group' column again\n",
        "print(df2['Age Group'].unique())\n",
        "\n",
        "# Display the distribution of the 'Age Group' column again\n",
        "print(df2['Age Group'].value_counts())\n"
      ],
      "metadata": {
        "id": "6C57PMTgBASj"
      },
      "execution_count": null,
      "outputs": []
    },
    {
      "cell_type": "code",
      "source": [
        "# Distribution of target variable by age group\n",
        "target_by_age_group = pd.crosstab(df2['Age Group'], df2['Target'], normalize='index')\n",
        "print(\"\\nTarget Distribution by Age Group:\\n\", target_by_age_group)\n",
        "\n",
        "# Plot the distribution of the target variable by age group\n",
        "plt.figure(figsize=(8, 6))\n",
        "sns.countplot(x='Target', hue='Age Group', data=df2)\n",
        "plt.title('Target Distribution by Age Group')\n",
        "plt.show()\n"
      ],
      "metadata": {
        "id": "XLReBDa0RCrv"
      },
      "execution_count": null,
      "outputs": []
    },
    {
      "cell_type": "code",
      "source": [
        "# MODEL IMPLEMENTATION"
      ],
      "metadata": {
        "id": "cbiVfdmBc5Mc"
      },
      "execution_count": null,
      "outputs": []
    },
    {
      "cell_type": "code",
      "source": [
        "# Stacked Model"
      ],
      "metadata": {
        "id": "VWw91GYT8RZ4"
      },
      "execution_count": 139,
      "outputs": []
    },
    {
      "cell_type": "code",
      "source": [
        "X = df.drop('Target', axis=1)\n",
        "y = df['Target']\n",
        "\n",
        "# Split the dataset into training and testing sets\n",
        "X_train, X_test, y_train, y_test = train_test_split(X, y, test_size=0.2, random_state=42)\n",
        "\n",
        "print(\"Training set shape:\", X_train.shape, y_train.shape)\n",
        "print(\"Testing set shape:\", X_test.shape, y_test.shape)\n",
        "\n",
        "\n",
        "# Initialize the Stacking Classifier with default parameters\n",
        "stacked_model_untuned = StackingClassifier(\n",
        "    estimators=[\n",
        "        ('lr', LogisticRegression(max_iter=10000, random_state=42)),\n",
        "        ('svc', SVC(probability=True, random_state=42)),\n",
        "        ('rf', RandomForestClassifier(random_state=42))\n",
        "    ],\n",
        "    final_estimator=LogisticRegression(max_iter=10000, random_state=42),\n",
        "    cv=3\n",
        ")\n",
        "\n",
        "# Train the model\n",
        "stacked_model_untuned.fit(X_train, y_train)\n",
        "\n",
        "# Predict on the test set\n",
        "y_pred_stacked_untuned = stacked_model_untuned.predict(X_test)\n",
        "\n",
        "# Evaluate the model\n",
        "print(\"Ensemble Model (Untuned Version)\")\n",
        "print(\"Accuracy:\", accuracy_score(y_test, y_pred_stacked_untuned))\n",
        "print(\"Classification Report:\\n\", classification_report(y_test, y_pred_stacked_untuned))\n",
        "print(\"Confusion Matrix:\\n\", confusion_matrix(y_test, y_pred_stacked_untuned))\n"
      ],
      "metadata": {
        "colab": {
          "base_uri": "https://localhost:8080/"
        },
        "id": "eEjUrNkldn4l",
        "outputId": "c043ef8e-ce67-422f-af9a-9793a8bf1e5e"
      },
      "execution_count": 19,
      "outputs": [
        {
          "output_type": "stream",
          "name": "stdout",
          "text": [
            "Training set shape: (3539, 9) (3539,)\n",
            "Testing set shape: (885, 9) (885,)\n",
            "Ensemble Model (Untuned Version)\n",
            "Accuracy: 0.8350282485875706\n",
            "Classification Report:\n",
            "               precision    recall  f1-score   support\n",
            "\n",
            "           0       0.87      0.63      0.73       316\n",
            "           1       0.82      0.95      0.88       569\n",
            "\n",
            "    accuracy                           0.84       885\n",
            "   macro avg       0.85      0.79      0.81       885\n",
            "weighted avg       0.84      0.84      0.83       885\n",
            "\n",
            "Confusion Matrix:\n",
            " [[199 117]\n",
            " [ 29 540]]\n"
          ]
        }
      ]
    },
    {
      "cell_type": "code",
      "source": [],
      "metadata": {
        "id": "p9DWeOL-dns5"
      },
      "execution_count": null,
      "outputs": []
    },
    {
      "cell_type": "code",
      "source": [
        "#Sample a Subset of the Data\n",
        "\n",
        "# Sample 10% of the data for hyperparameter tuning\n",
        "df_sample = df.sample(frac=0.1, random_state=42)\n",
        "\n",
        "# Split the sampled data into features and target\n",
        "X_sample = df_sample.drop('Target', axis=1)\n",
        "y_sample = df_sample['Target']\n",
        "\n",
        "# Split the dataset into training and testing sets\n",
        "X_sample_train, X_sample_test, y_sample_train, y_sample_test = train_test_split(X_sample, y_sample, test_size=0.2, random_state=42)\n"
      ],
      "metadata": {
        "id": "aWAWvIaeAQgc"
      },
      "execution_count": 93,
      "outputs": []
    },
    {
      "cell_type": "code",
      "source": [
        "# Define the reduced parameter grid\n",
        "param_grid = {\n",
        "    'lr__C': [0.1, 1],\n",
        "    'lr__penalty': ['l2'],\n",
        "    'svc__C': [1, 10],\n",
        "    'svc__kernel': ['linear'],\n",
        "    'rf__n_estimators': [50],\n",
        "    'rf__max_depth': [10, 20],\n",
        "    'final_estimator__C': [0.1, 1],\n",
        "    'final_estimator__penalty': ['l2']\n",
        "}\n",
        "\n",
        "# Initialize the StackingClassifier with fewer base learners\n",
        "stacked_model = StackingClassifier(\n",
        "    estimators=[\n",
        "        ('lr', LogisticRegression(max_iter=10000)),\n",
        "        ('svc', SVC(probability=True)),\n",
        "        ('rf', RandomForestClassifier())\n",
        "    ],\n",
        "    final_estimator=LogisticRegression(max_iter=10000),\n",
        "    cv=3\n",
        ")\n",
        "\n",
        "# Initialize GridSearchCV with 3-fold cross-validation\n",
        "grid_search = GridSearchCV(estimator=stacked_model, param_grid=param_grid, cv=3, scoring='f1', n_jobs=-1, verbose=2)\n",
        "\n",
        "# Fit the grid search to the sampled data\n",
        "grid_search.fit(X_sample_train, y_sample_train)\n",
        "\n",
        "# Best parameters and score from the sampled data\n",
        "best_params = grid_search.best_params_\n",
        "best_score = grid_search.best_score_\n",
        "\n",
        "print(\"Best Parameters from Sampled Data:\", best_params)\n",
        "print(\"Best Cross-Validation Score from Sampled Data:\", best_score)\n"
      ],
      "metadata": {
        "colab": {
          "base_uri": "https://localhost:8080/"
        },
        "id": "A700Gb81KcYU",
        "outputId": "0febc41f-c0a2-4f90-a29a-b5601c448d29"
      },
      "execution_count": 140,
      "outputs": [
        {
          "output_type": "stream",
          "name": "stdout",
          "text": [
            "Fitting 3 folds for each of 16 candidates, totalling 48 fits\n",
            "Best Parameters from Sampled Data: {'final_estimator__C': 0.1, 'final_estimator__penalty': 'l2', 'lr__C': 1, 'lr__penalty': 'l2', 'rf__max_depth': 10, 'rf__n_estimators': 50, 'svc__C': 1, 'svc__kernel': 'linear'}\n",
            "Best Cross-Validation Score from Sampled Data: 0.8933889796165245\n"
          ]
        }
      ]
    },
    {
      "cell_type": "code",
      "source": [
        "# Split the full dataset into features and target\n",
        "X_full = df.drop('Target', axis=1)\n",
        "y_full = df['Target']\n",
        "\n",
        "# Split the full dataset into training and testing sets\n",
        "X_train, X_test, y_train, y_test = train_test_split(X_full, y_full, test_size=0.2, random_state=42)\n",
        "\n",
        "# Initialize the best model with found parameters\n",
        "best_stacked_model = StackingClassifier(\n",
        "    estimators=[\n",
        "        ('lr', LogisticRegression(max_iter=10000, C=best_params['lr__C'], penalty=best_params['lr__penalty'])),\n",
        "        ('svc', SVC(probability=True, C=best_params['svc__C'], kernel=best_params['svc__kernel'])),\n",
        "        ('rf', RandomForestClassifier(n_estimators=best_params['rf__n_estimators'], max_depth=best_params['rf__max_depth']))\n",
        "    ],\n",
        "    final_estimator=LogisticRegression(max_iter=10000, C=best_params['final_estimator__C'], penalty=best_params['final_estimator__penalty']),\n",
        "    cv=3\n",
        ")\n",
        "\n",
        "# Train the best model on the full training set\n",
        "best_stacked_model.fit(X_train, y_train)\n",
        "y_pred_best = best_stacked_model.predict(X_test)\n",
        "\n",
        "# Evaluate the best model on the test set\n",
        "accuracy_best = accuracy_score(y_test, y_pred_best)\n",
        "precision_best = precision_score(y_test, y_pred_best)\n",
        "recall_best = recall_score(y_test, y_pred_best)\n",
        "f1_best = f1_score(y_test, y_pred_best)\n",
        "conf_matrix_best = confusion_matrix(y_test, y_pred_best)\n",
        "class_report_best = classification_report(y_test, y_pred_best)\n",
        "\n",
        "print(\"\\nTest Set Performance for Tuned Stacked Model:\")\n",
        "print(f\"Accuracy: {accuracy_best:.4f}\")\n",
        "print(f\"Precision: {precision_best:.4f}\")\n",
        "print(f\"Recall: {recall_best:.4f}\")\n",
        "print(f\"F1-score: {f1_best:.4f}\")\n",
        "print(\"Confusion Matrix:\\n\", conf_matrix_best)\n",
        "print(\"Classification Report:\\n\", class_report_best)\n"
      ],
      "metadata": {
        "colab": {
          "base_uri": "https://localhost:8080/"
        },
        "id": "rLmSioyz74Zm",
        "outputId": "72b586fb-ec8e-4cab-8e8d-91ef0155df87"
      },
      "execution_count": 141,
      "outputs": [
        {
          "output_type": "stream",
          "name": "stdout",
          "text": [
            "\n",
            "Test Set Performance for Tuned Stacked Model:\n",
            "Accuracy: 0.8260\n",
            "Precision: 0.8158\n",
            "Recall: 0.9420\n",
            "F1-score: 0.8744\n",
            "Confusion Matrix:\n",
            " [[195 121]\n",
            " [ 33 536]]\n",
            "Classification Report:\n",
            "               precision    recall  f1-score   support\n",
            "\n",
            "           0       0.86      0.62      0.72       316\n",
            "           1       0.82      0.94      0.87       569\n",
            "\n",
            "    accuracy                           0.83       885\n",
            "   macro avg       0.84      0.78      0.80       885\n",
            "weighted avg       0.83      0.83      0.82       885\n",
            "\n"
          ]
        }
      ]
    },
    {
      "cell_type": "code",
      "source": [
        "# SVM"
      ],
      "metadata": {
        "id": "dmawvwkY8P5Y"
      },
      "execution_count": null,
      "outputs": []
    },
    {
      "cell_type": "code",
      "source": [
        "from sklearn.svm import SVC\n",
        "\n",
        "# Initialize the SVM model with default parameters\n",
        "svm_model_untuned = SVC(probability=True, random_state=42)\n",
        "\n",
        "# Train the model\n",
        "svm_model_untuned.fit(X_train, y_train)\n",
        "\n",
        "# Predict on the test set\n",
        "y_pred_svm_untuned = svm_model_untuned.predict(X_test)\n",
        "\n",
        "# Evaluate the model\n",
        "print(\"Support Vector Machine (Untuned Version)\")\n",
        "print(\"Accuracy:\", accuracy_score(y_test, y_pred_svm_untuned))\n",
        "print(\"Classification Report:\\n\", classification_report(y_test, y_pred_svm_untuned))\n",
        "print(\"Confusion Matrix:\\n\", confusion_matrix(y_test, y_pred_svm_untuned))\n"
      ],
      "metadata": {
        "colab": {
          "base_uri": "https://localhost:8080/"
        },
        "id": "S7rYCh83dfXl",
        "outputId": "6abfd03e-c907-405e-e7c5-f7aa04397e5b"
      },
      "execution_count": 20,
      "outputs": [
        {
          "output_type": "stream",
          "name": "stdout",
          "text": [
            "Support Vector Machine (Untuned Version)\n",
            "Accuracy: 0.8282485875706215\n",
            "Classification Report:\n",
            "               precision    recall  f1-score   support\n",
            "\n",
            "           0       0.88      0.60      0.71       316\n",
            "           1       0.81      0.95      0.88       569\n",
            "\n",
            "    accuracy                           0.83       885\n",
            "   macro avg       0.85      0.78      0.80       885\n",
            "weighted avg       0.84      0.83      0.82       885\n",
            "\n",
            "Confusion Matrix:\n",
            " [[190 126]\n",
            " [ 26 543]]\n"
          ]
        }
      ]
    },
    {
      "cell_type": "code",
      "source": [],
      "metadata": {
        "id": "CBE2QsONdgWr"
      },
      "execution_count": null,
      "outputs": []
    },
    {
      "cell_type": "code",
      "source": [
        "# Split the data into features and target\n",
        "X = df.drop('Target', axis=1)\n",
        "y = df['Target']\n",
        "\n",
        "# Split the dataset into training and testing sets\n",
        "X_train, X_test, y_train, y_test = train_test_split(X, y, test_size=0.2, random_state=42)\n",
        "\n",
        "# Define the parameter grid for SVM\n",
        "param_grid = {\n",
        "    'C': [0.1, 1, 10],\n",
        "    'kernel': ['linear', 'rbf'],\n",
        "    'gamma': ['scale', 'auto']\n",
        "}\n",
        "\n",
        "# Initialize GridSearchCV with SVM\n",
        "grid_search = GridSearchCV(SVC(), param_grid, cv=5, scoring='f1', n_jobs=-1, verbose=2)\n",
        "\n",
        "# Fit the grid search to the data\n",
        "grid_search.fit(X_train, y_train)\n",
        "\n",
        "# Best parameters and score\n",
        "best_params = grid_search.best_params_\n",
        "best_score = grid_search.best_score_\n",
        "\n",
        "print(\"Best Parameters:\", best_params)\n",
        "print(\"Best Cross-Validation Score:\", best_score)\n"
      ],
      "metadata": {
        "colab": {
          "base_uri": "https://localhost:8080/"
        },
        "id": "gjch-mh1DkPX",
        "outputId": "82f300d1-e968-456f-bd87-cc77a545f57f"
      },
      "execution_count": 142,
      "outputs": [
        {
          "output_type": "stream",
          "name": "stdout",
          "text": [
            "Fitting 5 folds for each of 12 candidates, totalling 60 fits\n",
            "Best Parameters: {'C': 10, 'gamma': 'auto', 'kernel': 'rbf'}\n",
            "Best Cross-Validation Score: 0.8985785411293362\n"
          ]
        }
      ]
    },
    {
      "cell_type": "code",
      "source": [
        "# Initialize the SVM model with the best parameters\n",
        "best_svm_model = SVC(C=best_params['C'], kernel=best_params['kernel'], gamma=best_params['gamma'], probability=True)\n",
        "\n",
        "# Train the SVM model on the full training set\n",
        "best_svm_model.fit(X_train, y_train)\n",
        "y_pred_best = best_svm_model.predict(X_test)\n",
        "\n",
        "# Evaluate the SVM model on the test set\n",
        "accuracy_best = accuracy_score(y_test, y_pred_best)\n",
        "precision_best = precision_score(y_test, y_pred_best)\n",
        "recall_best = recall_score(y_test, y_pred_best)\n",
        "f1_best = f1_score(y_test, y_pred_best)\n",
        "conf_matrix_best = confusion_matrix(y_test, y_pred_best)\n",
        "class_report_best = classification_report(y_test, y_pred_best)\n",
        "\n",
        "print(\"\\nTest Set Performance for Tuned SVM:\")\n",
        "print(f\"Accuracy: {accuracy_best:.4f}\")\n",
        "print(f\"Precision: {precision_best:.4f}\")\n",
        "print(f\"Recall: {recall_best:.4f}\")\n",
        "print(f\"F1-score: {f1_best:.4f}\")\n",
        "print(\"Confusion Matrix:\\n\", conf_matrix_best)\n",
        "print(\"Classification Report:\\n\", class_report_best)\n"
      ],
      "metadata": {
        "colab": {
          "base_uri": "https://localhost:8080/"
        },
        "id": "ZLo8v1a2Dj1E",
        "outputId": "21480cfd-8260-4381-8424-a7934d344e2f"
      },
      "execution_count": 143,
      "outputs": [
        {
          "output_type": "stream",
          "name": "stdout",
          "text": [
            "\n",
            "Test Set Performance for Tuned SVM:\n",
            "Accuracy: 0.8282\n",
            "Precision: 0.8126\n",
            "Recall: 0.9525\n",
            "F1-score: 0.8770\n",
            "Confusion Matrix:\n",
            " [[191 125]\n",
            " [ 27 542]]\n",
            "Classification Report:\n",
            "               precision    recall  f1-score   support\n",
            "\n",
            "           0       0.88      0.60      0.72       316\n",
            "           1       0.81      0.95      0.88       569\n",
            "\n",
            "    accuracy                           0.83       885\n",
            "   macro avg       0.84      0.78      0.80       885\n",
            "weighted avg       0.84      0.83      0.82       885\n",
            "\n"
          ]
        }
      ]
    },
    {
      "cell_type": "code",
      "source": [
        "# Random Forest model"
      ],
      "metadata": {
        "id": "obOSkS6JTKm7"
      },
      "execution_count": null,
      "outputs": []
    },
    {
      "cell_type": "code",
      "source": [
        "from sklearn.ensemble import RandomForestClassifier\n",
        "from sklearn.metrics import classification_report, confusion_matrix\n",
        "\n",
        "# Initialize the Random Forest model with default parameters\n",
        "rf_model_untuned = RandomForestClassifier(random_state=42)\n",
        "\n",
        "# Train the model\n",
        "rf_model_untuned.fit(X_train, y_train)\n",
        "\n",
        "# Predict on the test set\n",
        "y_pred_rf_untuned = rf_model_untuned.predict(X_test)\n",
        "\n",
        "# Evaluate the model\n",
        "print(\"Random Forest (Untuned Version)\")\n",
        "print(\"Accuracy:\", accuracy_score(y_test, y_pred_rf_untuned))\n",
        "print(\"Classification Report:\\n\", classification_report(y_test, y_pred_rf_untuned))\n",
        "print(\"Confusion Matrix:\\n\", confusion_matrix(y_test, y_pred_rf_untuned))\n"
      ],
      "metadata": {
        "colab": {
          "base_uri": "https://localhost:8080/"
        },
        "id": "DTLMnjo5dNFx",
        "outputId": "e57f8f21-71b0-49ae-da84-dd0bb4855fef"
      },
      "execution_count": 21,
      "outputs": [
        {
          "output_type": "stream",
          "name": "stdout",
          "text": [
            "Random Forest (Untuned Version)\n",
            "Accuracy: 0.8259887005649718\n",
            "Classification Report:\n",
            "               precision    recall  f1-score   support\n",
            "\n",
            "           0       0.82      0.66      0.73       316\n",
            "           1       0.83      0.92      0.87       569\n",
            "\n",
            "    accuracy                           0.83       885\n",
            "   macro avg       0.82      0.79      0.80       885\n",
            "weighted avg       0.83      0.83      0.82       885\n",
            "\n",
            "Confusion Matrix:\n",
            " [[207 109]\n",
            " [ 45 524]]\n"
          ]
        }
      ]
    },
    {
      "cell_type": "code",
      "source": [],
      "metadata": {
        "id": "1zakYFkddr3n"
      },
      "execution_count": null,
      "outputs": []
    },
    {
      "cell_type": "code",
      "source": [
        "#Define Hyperparameter Grid\n",
        "\n",
        "# Split the data into features and target\n",
        "X = df.drop('Target', axis=1)\n",
        "y = df['Target']\n",
        "\n",
        "# Split the dataset into training and testing sets\n",
        "X_train, X_test, y_train, y_test = train_test_split(X, y, test_size=0.2, random_state=42)\n",
        "\n",
        "# Define the parameter grid for Random Forest\n",
        "param_grid = {\n",
        "    'n_estimators': [50, 100, 200],\n",
        "    'max_depth': [10, 20, None],\n",
        "    'min_samples_split': [2, 5, 10],\n",
        "    'min_samples_leaf': [1, 2, 4],\n",
        "    'bootstrap': [True, False]\n",
        "}\n",
        "\n",
        "# Initialize GridSearchCV with Random Forest\n",
        "grid_search = GridSearchCV(RandomForestClassifier(), param_grid, cv=5, scoring='f1', n_jobs=-1, verbose=2)\n",
        "\n",
        "# Fit the grid search to the data\n",
        "grid_search.fit(X_train, y_train)\n",
        "\n",
        "# Best parameters and score\n",
        "best_params = grid_search.best_params_\n",
        "best_score = grid_search.best_score_\n",
        "\n",
        "print(\"Best Parameters:\", best_params)\n",
        "print(\"Best Cross-Validation Score:\", best_score)\n"
      ],
      "metadata": {
        "colab": {
          "base_uri": "https://localhost:8080/"
        },
        "id": "FN8KQkySTKUZ",
        "outputId": "de039bb0-1882-495e-bb66-721a0a295889"
      },
      "execution_count": 144,
      "outputs": [
        {
          "output_type": "stream",
          "name": "stdout",
          "text": [
            "Fitting 5 folds for each of 162 candidates, totalling 810 fits\n",
            "Best Parameters: {'bootstrap': True, 'max_depth': 10, 'min_samples_leaf': 1, 'min_samples_split': 5, 'n_estimators': 200}\n",
            "Best Cross-Validation Score: 0.9018147663079779\n"
          ]
        }
      ]
    },
    {
      "cell_type": "code",
      "source": [
        "# Train and Evaluate on Full Dataset\n",
        "\n",
        "# Initialize the Random Forest model with the best parameters\n",
        "best_rf_model = RandomForestClassifier(\n",
        "    n_estimators=best_params['n_estimators'],\n",
        "    max_depth=best_params['max_depth'],\n",
        "    min_samples_split=best_params['min_samples_split'],\n",
        "    min_samples_leaf=best_params['min_samples_leaf'],\n",
        "    bootstrap=best_params['bootstrap']\n",
        ")\n",
        "\n",
        "# Train the Random Forest model on the full training set\n",
        "best_rf_model.fit(X_train, y_train)\n",
        "y_pred_best = best_rf_model.predict(X_test)\n",
        "\n",
        "# Evaluate the Random Forest model on the test set\n",
        "accuracy_best = accuracy_score(y_test, y_pred_best)\n",
        "precision_best = precision_score(y_test, y_pred_best)\n",
        "recall_best = recall_score(y_test, y_pred_best)\n",
        "f1_best = f1_score(y_test, y_pred_best)\n",
        "conf_matrix_best = confusion_matrix(y_test, y_pred_best)\n",
        "class_report_best = classification_report(y_test, y_pred_best)\n",
        "\n",
        "print(\"\\nTest Set Performance for Tuned Random Forest:\")\n",
        "print(f\"Accuracy: {accuracy_best:.4f}\")\n",
        "print(f\"Precision: {precision_best:.4f}\")\n",
        "print(f\"Recall: {recall_best:.4f}\")\n",
        "print(f\"F1-score: {f1_best:.4f}\")\n",
        "print(\"Confusion Matrix:\\n\", conf_matrix_best)\n",
        "print(\"Classification Report:\\n\", class_report_best)\n"
      ],
      "metadata": {
        "colab": {
          "base_uri": "https://localhost:8080/"
        },
        "id": "zuz7e9hwTWC3",
        "outputId": "cc2fdd9e-22f0-4bce-982c-16ff97a2de23"
      },
      "execution_count": 145,
      "outputs": [
        {
          "output_type": "stream",
          "name": "stdout",
          "text": [
            "\n",
            "Test Set Performance for Tuned Random Forest:\n",
            "Accuracy: 0.8294\n",
            "Precision: 0.8266\n",
            "Recall: 0.9297\n",
            "F1-score: 0.8751\n",
            "Confusion Matrix:\n",
            " [[205 111]\n",
            " [ 40 529]]\n",
            "Classification Report:\n",
            "               precision    recall  f1-score   support\n",
            "\n",
            "           0       0.84      0.65      0.73       316\n",
            "           1       0.83      0.93      0.88       569\n",
            "\n",
            "    accuracy                           0.83       885\n",
            "   macro avg       0.83      0.79      0.80       885\n",
            "weighted avg       0.83      0.83      0.82       885\n",
            "\n"
          ]
        }
      ]
    },
    {
      "cell_type": "code",
      "source": [
        "# Fairness and Bias Analysis for SVM and Random Forest Because SVM model is the best overall performer based on the highest F1-score and recall while Random Forest model is slightly better in terms of precision and overall accuracy."
      ],
      "metadata": {
        "id": "7iq1VyVGWX8o"
      },
      "execution_count": 57,
      "outputs": []
    },
    {
      "cell_type": "code",
      "source": [
        "# Function to evaluate model performance by group\n",
        "def evaluate_by_group(model, X_test, y_test, group_col):\n",
        "    results = {}\n",
        "    for group in X_test[group_col].unique():\n",
        "        X_group = X_test[X_test[group_col] == group]\n",
        "        y_group = y_test[X_test[group_col] == group]\n",
        "        y_pred_group = model.predict(X_group)\n",
        "        report = classification_report(y_group, y_pred_group, output_dict=True)\n",
        "        results[group] = report\n",
        "    return results"
      ],
      "metadata": {
        "id": "eUj-uXu1WXts"
      },
      "execution_count": 146,
      "outputs": []
    },
    {
      "cell_type": "code",
      "source": [
        "# Evaluate Model Performance by Gender"
      ],
      "metadata": {
        "id": "75zPZcL43g-S"
      },
      "execution_count": null,
      "outputs": []
    },
    {
      "cell_type": "code",
      "source": [
        "# Assume X_test and y_test are defined as the test sets after resampling and preprocessing\n",
        "gender_results_svm = evaluate_by_group(best_svm_model, X_test, y_test, 'Gender')\n",
        "print(\"\\nSVM Model Performance by Gender:\\n\", gender_results_svm)"
      ],
      "metadata": {
        "colab": {
          "base_uri": "https://localhost:8080/"
        },
        "id": "wfRjRxq-3A8O",
        "outputId": "447aeee9-6df1-4be2-8630-7d54f5267fdd"
      },
      "execution_count": 147,
      "outputs": [
        {
          "output_type": "stream",
          "name": "stdout",
          "text": [
            "\n",
            "SVM Model Performance by Gender:\n",
            " {0: {'0': {'precision': 0.8712871287128713, 'recall': 0.5751633986928104, 'f1-score': 0.6929133858267715, 'support': 153}, '1': {'precision': 0.8668032786885246, 'recall': 0.9701834862385321, 'f1-score': 0.9155844155844155, 'support': 436}, 'accuracy': 0.8675721561969439, 'macro avg': {'precision': 0.8690452037006979, 'recall': 0.7726734424656713, 'f1-score': 0.8042489007055935, 'support': 589}, 'weighted avg': {'precision': 0.867968013924051, 'recall': 0.8675721561969439, 'f1-score': 0.8577428747475403, 'support': 589}}, 1: {'0': {'precision': 0.8803418803418803, 'recall': 0.6319018404907976, 'f1-score': 0.7357142857142858, 'support': 163}, '1': {'precision': 0.664804469273743, 'recall': 0.8947368421052632, 'f1-score': 0.7628205128205128, 'support': 133}, 'accuracy': 0.75, 'macro avg': {'precision': 0.7725731748078117, 'recall': 0.7633193412980304, 'f1-score': 0.7492673992673993, 'support': 296}, 'weighted avg': {'precision': 0.7834956787470755, 'recall': 0.75, 'f1-score': 0.7478937728937729, 'support': 296}}}\n"
          ]
        }
      ]
    },
    {
      "cell_type": "code",
      "source": [
        "# Evaluate Random Forest model by gender\n",
        "gender_results_rf = evaluate_by_group(best_rf_model, X_test, y_test, 'Gender')\n",
        "print(\"\\nRandom Forest Model Performance by Gender:\\n\", gender_results_rf)\n"
      ],
      "metadata": {
        "colab": {
          "base_uri": "https://localhost:8080/"
        },
        "id": "QsKmiov33IeV",
        "outputId": "3e857c35-aa76-4f5c-84a1-0a00de33ad3f"
      },
      "execution_count": 148,
      "outputs": [
        {
          "output_type": "stream",
          "name": "stdout",
          "text": [
            "\n",
            "Random Forest Model Performance by Gender:\n",
            " {0: {'0': {'precision': 0.8407079646017699, 'recall': 0.6209150326797386, 'f1-score': 0.7142857142857143, 'support': 153}, '1': {'precision': 0.8781512605042017, 'recall': 0.9587155963302753, 'f1-score': 0.9166666666666667, 'support': 436}, 'accuracy': 0.8709677419354839, 'macro avg': {'precision': 0.8594296125529858, 'recall': 0.7898153145050069, 'f1-score': 0.8154761904761905, 'support': 589}, 'weighted avg': {'precision': 0.8684249035040793, 'recall': 0.8709677419354839, 'f1-score': 0.864095723178915, 'support': 589}}, 1: {'0': {'precision': 0.8333333333333334, 'recall': 0.6748466257668712, 'f1-score': 0.7457627118644068, 'support': 163}, '1': {'precision': 0.676829268292683, 'recall': 0.8345864661654135, 'f1-score': 0.7474747474747475, 'support': 133}, 'accuracy': 0.7466216216216216, 'macro avg': {'precision': 0.7550813008130082, 'recall': 0.7547165459661423, 'f1-score': 0.7466187296695772, 'support': 296}, 'weighted avg': {'precision': 0.763012250054933, 'recall': 0.7466216216216216, 'f1-score': 0.7465319711082424, 'support': 296}}}\n"
          ]
        }
      ]
    },
    {
      "cell_type": "code",
      "source": [
        "# Evaluate Model Performance by GDP"
      ],
      "metadata": {
        "id": "_wUH1WiN3P9-"
      },
      "execution_count": null,
      "outputs": []
    },
    {
      "cell_type": "code",
      "source": [
        "# Evaluate SVM model by GDP\n",
        "GDP_results_svm = evaluate_by_group(best_svm_model, X_test, y_test, 'GDP')\n",
        "print(\"\\nSVM Model Performance by GDP:\\n\", GDP_results_svm)"
      ],
      "metadata": {
        "colab": {
          "base_uri": "https://localhost:8080/"
        },
        "id": "I4_QMGU43UGA",
        "outputId": "77d5bc0c-e551-481d-a3a5-0e53bdf6865c"
      },
      "execution_count": 149,
      "outputs": [
        {
          "output_type": "stream",
          "name": "stdout",
          "text": [
            "\n",
            "SVM Model Performance by GDP:\n",
            " {0.8891263042772198: {'0': {'precision': 0.7894736842105263, 'recall': 0.5, 'f1-score': 0.6122448979591837, 'support': 30}, '1': {'precision': 0.7887323943661971, 'recall': 0.9333333333333333, 'f1-score': 0.8549618320610686, 'support': 60}, 'accuracy': 0.7888888888888889, 'macro avg': {'precision': 0.7891030392883618, 'recall': 0.7166666666666667, 'f1-score': 0.7336033650101261, 'support': 90}, 'weighted avg': {'precision': 0.7889794909809735, 'recall': 0.7888888888888889, 'f1-score': 0.7740561873604404, 'support': 90}}, -0.40621112311617363: {'0': {'precision': 0.9642857142857143, 'recall': 0.6585365853658537, 'f1-score': 0.782608695652174, 'support': 41}, '1': {'precision': 0.7307692307692307, 'recall': 0.9743589743589743, 'f1-score': 0.8351648351648352, 'support': 39}, 'accuracy': 0.8125, 'macro avg': {'precision': 0.8475274725274725, 'recall': 0.816447779862414, 'f1-score': 0.8088867654085046, 'support': 80}, 'weighted avg': {'precision': 0.8504464285714285, 'recall': 0.8125, 'f1-score': 0.8082298136645963, 'support': 80}}, -1.7896667428492534: {'0': {'precision': 0.9565217391304348, 'recall': 0.7857142857142857, 'f1-score': 0.8627450980392156, 'support': 28}, '1': {'precision': 0.875, 'recall': 0.9767441860465116, 'f1-score': 0.923076923076923, 'support': 43}, 'accuracy': 0.9014084507042254, 'macro avg': {'precision': 0.9157608695652174, 'recall': 0.8812292358803986, 'f1-score': 0.8929110105580693, 'support': 71}, 'weighted avg': {'precision': 0.9071494182486222, 'recall': 0.9014084507042254, 'f1-score': 0.8992840906676862, 'support': 71}}, 0.14012166938988344: {'0': {'precision': 0.8, 'recall': 0.5405405405405406, 'f1-score': 0.6451612903225806, 'support': 37}, '1': {'precision': 0.7926829268292683, 'recall': 0.9285714285714286, 'f1-score': 0.855263157894737, 'support': 70}, 'accuracy': 0.794392523364486, 'macro avg': {'precision': 0.7963414634146342, 'recall': 0.7345559845559846, 'f1-score': 0.7502122241086588, 'support': 107}, 'weighted avg': {'precision': 0.7952131297013906, 'recall': 0.794392523364486, 'f1-score': 0.7826111102295988, 'support': 107}}, -1.3755112388527264: {'0': {'precision': 0.7714285714285715, 'recall': 0.6428571428571429, 'f1-score': 0.7012987012987013, 'support': 42}, '1': {'precision': 0.8148148148148148, 'recall': 0.8918918918918919, 'f1-score': 0.8516129032258065, 'support': 74}, 'accuracy': 0.8017241379310345, 'macro avg': {'precision': 0.7931216931216931, 'recall': 0.7673745173745175, 'f1-score': 0.7764558022622539, 'support': 116}, 'weighted avg': {'precision': 0.7991060025542783, 'recall': 0.8017241379310345, 'f1-score': 0.7971887956315097, 'support': 116}}, 0.7877903830865802: {'0': {'precision': 0.9333333333333333, 'recall': 0.6363636363636364, 'f1-score': 0.7567567567567568, 'support': 22}, '1': {'precision': 0.8947368421052632, 'recall': 0.9855072463768116, 'f1-score': 0.9379310344827586, 'support': 69}, 'accuracy': 0.9010989010989011, 'macro avg': {'precision': 0.9140350877192982, 'recall': 0.810935441370224, 'f1-score': 0.8473438956197576, 'support': 91}, 'weighted avg': {'precision': 0.9040678619625988, 'recall': 0.9010989010989011, 'f1-score': 0.894130659647901, 'support': 91}}, 0.7657608350016585: {'0': {'precision': 0.9523809523809523, 'recall': 0.5714285714285714, 'f1-score': 0.7142857142857142, 'support': 35}, '1': {'precision': 0.810126582278481, 'recall': 0.9846153846153847, 'f1-score': 0.888888888888889, 'support': 65}, 'accuracy': 0.84, 'macro avg': {'precision': 0.8812537673297167, 'recall': 0.778021978021978, 'f1-score': 0.8015873015873016, 'support': 100}, 'weighted avg': {'precision': 0.859915611814346, 'recall': 0.84, 'f1-score': 0.8277777777777777, 'support': 100}}, 0.347199421388147: {'0': {'precision': 0.8461538461538461, 'recall': 0.5, 'f1-score': 0.6285714285714286, 'support': 22}, '1': {'precision': 0.8070175438596491, 'recall': 0.9583333333333334, 'f1-score': 0.8761904761904762, 'support': 48}, 'accuracy': 0.8142857142857143, 'macro avg': {'precision': 0.8265856950067476, 'recall': 0.7291666666666667, 'f1-score': 0.7523809523809524, 'support': 70}, 'weighted avg': {'precision': 0.8193175245806825, 'recall': 0.8142857142857143, 'f1-score': 0.7983673469387755, 'support': 70}}, 1.545606837207885: {'0': {'precision': 0.8947368421052632, 'recall': 0.6538461538461539, 'f1-score': 0.7555555555555555, 'support': 26}, '1': {'precision': 0.8235294117647058, 'recall': 0.9545454545454546, 'f1-score': 0.8842105263157896, 'support': 44}, 'accuracy': 0.8428571428571429, 'macro avg': {'precision': 0.8591331269349844, 'recall': 0.8041958041958042, 'f1-score': 0.8198830409356725, 'support': 70}, 'weighted avg': {'precision': 0.8499778858911986, 'recall': 0.8428571428571429, 'f1-score': 0.8364243943191312, 'support': 70}}, -0.7498720732409514: {'0': {'precision': 0.9, 'recall': 0.5454545454545454, 'f1-score': 0.679245283018868, 'support': 33}, '1': {'precision': 0.7857142857142857, 'recall': 0.9649122807017544, 'f1-score': 0.8661417322834646, 'support': 57}, 'accuracy': 0.8111111111111111, 'macro avg': {'precision': 0.8428571428571429, 'recall': 0.7551834130781498, 'f1-score': 0.7726935076511663, 'support': 90}, 'weighted avg': {'precision': 0.8276190476190476, 'recall': 0.8111111111111111, 'f1-score': 0.7976130342197791, 'support': 90}}}\n"
          ]
        }
      ]
    },
    {
      "cell_type": "code",
      "source": [
        "# Evaluate Random Forest model by GDP\n",
        "GDP_rf = evaluate_by_group(best_rf_model, X_test, y_test, 'GDP')\n",
        "print(\"\\nRandom Forest Model Performance by GDP:\\n\", GDP_rf)"
      ],
      "metadata": {
        "colab": {
          "base_uri": "https://localhost:8080/"
        },
        "id": "yNSWSazq3ad6",
        "outputId": "ba8820b3-023d-4e4d-a3b2-006a16b80c0c"
      },
      "execution_count": 150,
      "outputs": [
        {
          "output_type": "stream",
          "name": "stdout",
          "text": [
            "\n",
            "Random Forest Model Performance by GDP:\n",
            " {0.8891263042772198: {'0': {'precision': 0.8333333333333334, 'recall': 0.5, 'f1-score': 0.625, 'support': 30}, '1': {'precision': 0.7916666666666666, 'recall': 0.95, 'f1-score': 0.8636363636363635, 'support': 60}, 'accuracy': 0.8, 'macro avg': {'precision': 0.8125, 'recall': 0.725, 'f1-score': 0.7443181818181818, 'support': 90}, 'weighted avg': {'precision': 0.8055555555555556, 'recall': 0.8, 'f1-score': 0.7840909090909091, 'support': 90}}, -0.40621112311617363: {'0': {'precision': 0.9354838709677419, 'recall': 0.7073170731707317, 'f1-score': 0.8055555555555556, 'support': 41}, '1': {'precision': 0.7551020408163265, 'recall': 0.9487179487179487, 'f1-score': 0.8409090909090908, 'support': 39}, 'accuracy': 0.825, 'macro avg': {'precision': 0.8452929558920341, 'recall': 0.8280175109443402, 'f1-score': 0.8232323232323232, 'support': 80}, 'weighted avg': {'precision': 0.8475477287689269, 'recall': 0.825, 'f1-score': 0.8227904040404039, 'support': 80}}, -1.7896667428492534: {'0': {'precision': 0.9565217391304348, 'recall': 0.7857142857142857, 'f1-score': 0.8627450980392156, 'support': 28}, '1': {'precision': 0.875, 'recall': 0.9767441860465116, 'f1-score': 0.923076923076923, 'support': 43}, 'accuracy': 0.9014084507042254, 'macro avg': {'precision': 0.9157608695652174, 'recall': 0.8812292358803986, 'f1-score': 0.8929110105580693, 'support': 71}, 'weighted avg': {'precision': 0.9071494182486222, 'recall': 0.9014084507042254, 'f1-score': 0.8992840906676862, 'support': 71}}, 0.14012166938988344: {'0': {'precision': 0.8125, 'recall': 0.7027027027027027, 'f1-score': 0.7536231884057971, 'support': 37}, '1': {'precision': 0.8533333333333334, 'recall': 0.9142857142857143, 'f1-score': 0.8827586206896552, 'support': 70}, 'accuracy': 0.8411214953271028, 'macro avg': {'precision': 0.8329166666666667, 'recall': 0.8084942084942085, 'f1-score': 0.8181909045477261, 'support': 107}, 'weighted avg': {'precision': 0.8392133956386293, 'recall': 0.8411214953271028, 'f1-score': 0.8381043123298163, 'support': 107}}, -1.3755112388527264: {'0': {'precision': 0.7567567567567568, 'recall': 0.6666666666666666, 'f1-score': 0.7088607594936708, 'support': 42}, '1': {'precision': 0.8227848101265823, 'recall': 0.8783783783783784, 'f1-score': 0.8496732026143792, 'support': 74}, 'accuracy': 0.8017241379310345, 'macro avg': {'precision': 0.7897707834416696, 'recall': 0.7725225225225225, 'f1-score': 0.7792669810540249, 'support': 116}, 'weighted avg': {'precision': 0.7988781011478523, 'recall': 0.8017241379310345, 'f1-score': 0.7986893870017089, 'support': 116}}, 0.7877903830865802: {'0': {'precision': 0.8823529411764706, 'recall': 0.6818181818181818, 'f1-score': 0.7692307692307693, 'support': 22}, '1': {'precision': 0.9054054054054054, 'recall': 0.9710144927536232, 'f1-score': 0.937062937062937, 'support': 69}, 'accuracy': 0.9010989010989011, 'macro avg': {'precision': 0.8938791732909379, 'recall': 0.8264163372859025, 'f1-score': 0.8531468531468531, 'support': 91}, 'weighted avg': {'precision': 0.8998322821852233, 'recall': 0.9010989010989011, 'f1-score': 0.8964881272573579, 'support': 91}}, 0.7657608350016585: {'0': {'precision': 0.9166666666666666, 'recall': 0.6285714285714286, 'f1-score': 0.7457627118644068, 'support': 35}, '1': {'precision': 0.8289473684210527, 'recall': 0.9692307692307692, 'f1-score': 0.8936170212765957, 'support': 65}, 'accuracy': 0.85, 'macro avg': {'precision': 0.8728070175438596, 'recall': 0.798901098901099, 'f1-score': 0.8196898665705012, 'support': 100}, 'weighted avg': {'precision': 0.8596491228070176, 'recall': 0.85, 'f1-score': 0.8418680129823296, 'support': 100}}, 0.347199421388147: {'0': {'precision': 0.8125, 'recall': 0.5909090909090909, 'f1-score': 0.6842105263157896, 'support': 22}, '1': {'precision': 0.8333333333333334, 'recall': 0.9375, 'f1-score': 0.8823529411764706, 'support': 48}, 'accuracy': 0.8285714285714286, 'macro avg': {'precision': 0.8229166666666667, 'recall': 0.7642045454545454, 'f1-score': 0.7832817337461301, 'support': 70}, 'weighted avg': {'precision': 0.8267857142857142, 'recall': 0.8285714285714286, 'f1-score': 0.8200796107916851, 'support': 70}}, 1.545606837207885: {'0': {'precision': 0.7272727272727273, 'recall': 0.6153846153846154, 'f1-score': 0.6666666666666667, 'support': 26}, '1': {'precision': 0.7916666666666666, 'recall': 0.8636363636363636, 'f1-score': 0.8260869565217391, 'support': 44}, 'accuracy': 0.7714285714285715, 'macro avg': {'precision': 0.759469696969697, 'recall': 0.7395104895104896, 'f1-score': 0.7463768115942029, 'support': 70}, 'weighted avg': {'precision': 0.7677489177489176, 'recall': 0.7714285714285715, 'f1-score': 0.7668737060041408, 'support': 70}}, -0.7498720732409514: {'0': {'precision': 0.76, 'recall': 0.5757575757575758, 'f1-score': 0.6551724137931034, 'support': 33}, '1': {'precision': 0.7846153846153846, 'recall': 0.8947368421052632, 'f1-score': 0.8360655737704918, 'support': 57}, 'accuracy': 0.7777777777777778, 'macro avg': {'precision': 0.7723076923076924, 'recall': 0.7352472089314195, 'f1-score': 0.7456189937817976, 'support': 90}, 'weighted avg': {'precision': 0.7755897435897436, 'recall': 0.7777777777777778, 'f1-score': 0.7697380817787828, 'support': 90}}}\n"
          ]
        }
      ]
    },
    {
      "cell_type": "code",
      "source": [
        "# Evaluate Model Performance by Debtor"
      ],
      "metadata": {
        "id": "KzEJUcZZLb2v"
      },
      "execution_count": 151,
      "outputs": []
    },
    {
      "cell_type": "code",
      "source": [
        "# Evaluate SVM model by Debtor\n",
        "Debtor_svm = evaluate_by_group(best_svm_model, X_test, y_test, 'Debtor')\n",
        "print(\"\\nSVM Model Performance by Debtor:\\n\", Debtor_svm)"
      ],
      "metadata": {
        "colab": {
          "base_uri": "https://localhost:8080/"
        },
        "id": "BYYaA-iVL2kU",
        "outputId": "bf85cd19-8f21-4331-ef40-28574d95fdf9"
      },
      "execution_count": 152,
      "outputs": [
        {
          "output_type": "stream",
          "name": "stdout",
          "text": [
            "\n",
            "SVM Model Performance by Debtor:\n",
            " {0: {'0': {'precision': 0.8766233766233766, 'recall': 0.5443548387096774, 'f1-score': 0.6716417910447762, 'support': 248}, '1': {'precision': 0.8206349206349206, 'recall': 0.9645522388059702, 'f1-score': 0.8867924528301887, 'support': 536}, 'accuracy': 0.8316326530612245, 'macro avg': {'precision': 0.8486291486291486, 'recall': 0.7544535387578237, 'f1-score': 0.7792171219374824, 'support': 784}, 'weighted avg': {'precision': 0.8383455546720853, 'recall': 0.8316326530612245, 'f1-score': 0.8187345904286806, 'support': 784}}, 1: {'0': {'precision': 0.875, 'recall': 0.8235294117647058, 'f1-score': 0.8484848484848485, 'support': 68}, '1': {'precision': 0.6756756756756757, 'recall': 0.7575757575757576, 'f1-score': 0.7142857142857142, 'support': 33}, 'accuracy': 0.801980198019802, 'macro avg': {'precision': 0.7753378378378378, 'recall': 0.7905525846702317, 'f1-score': 0.7813852813852813, 'support': 101}, 'weighted avg': {'precision': 0.8098742306663098, 'recall': 0.801980198019802, 'f1-score': 0.8046376066178047, 'support': 101}}}\n"
          ]
        }
      ]
    },
    {
      "cell_type": "code",
      "source": [
        "# Evaluate Random Forest model by Debtor\n",
        "Debtor_rf = evaluate_by_group(best_rf_model, X_test, y_test, 'Debtor')\n",
        "print(\"\\nRandom Forest Model Performance by Debtor:\\n\", Debtor_rf)"
      ],
      "metadata": {
        "colab": {
          "base_uri": "https://localhost:8080/"
        },
        "id": "GsNLtkIrL2Zv",
        "outputId": "f3bcf613-9c01-4143-9a6e-d579da7bee45"
      },
      "execution_count": 153,
      "outputs": [
        {
          "output_type": "stream",
          "name": "stdout",
          "text": [
            "\n",
            "Random Forest Model Performance by Debtor:\n",
            " {0: {'0': {'precision': 0.825136612021858, 'recall': 0.6088709677419355, 'f1-score': 0.7006960556844548, 'support': 248}, '1': {'precision': 0.8386023294509152, 'recall': 0.9402985074626866, 'f1-score': 0.8865435356200528, 'support': 536}, 'accuracy': 0.8354591836734694, 'macro avg': {'precision': 0.8318694707363865, 'recall': 0.7745847376023111, 'f1-score': 0.7936197956522538, 'support': 784}, 'weighted avg': {'precision': 0.8343427657743766, 'recall': 0.8354591836734694, 'f1-score': 0.8277550470689964, 'support': 784}}, 1: {'0': {'precision': 0.8709677419354839, 'recall': 0.7941176470588235, 'f1-score': 0.8307692307692308, 'support': 68}, '1': {'precision': 0.6410256410256411, 'recall': 0.7575757575757576, 'f1-score': 0.6944444444444444, 'support': 33}, 'accuracy': 0.7821782178217822, 'macro avg': {'precision': 0.7559966914805625, 'recall': 0.7758467023172906, 'f1-score': 0.7626068376068376, 'support': 101}, 'weighted avg': {'precision': 0.7958381446085055, 'recall': 0.7821782178217822, 'f1-score': 0.7862274689007362, 'support': 101}}}\n"
          ]
        }
      ]
    },
    {
      "cell_type": "code",
      "source": [
        "# Evaluate Model Performance by Scholarship holder"
      ],
      "metadata": {
        "id": "F0i_vv_xMAi6"
      },
      "execution_count": 154,
      "outputs": []
    },
    {
      "cell_type": "code",
      "source": [
        "# Evaluate SVM model by Scholarship holder\n",
        "Scholarship_holder_svm = evaluate_by_group(best_svm_model, X_test, y_test, 'Scholarship holder')\n",
        "print(\"\\nSVM Model Performance by Scholarship holder:\\n\", Scholarship_holder_svm)"
      ],
      "metadata": {
        "colab": {
          "base_uri": "https://localhost:8080/"
        },
        "id": "eZdl5_lNMFxP",
        "outputId": "f52b09cd-0ae7-4f4b-a04f-fba7395a3818"
      },
      "execution_count": 155,
      "outputs": [
        {
          "output_type": "stream",
          "name": "stdout",
          "text": [
            "\n",
            "SVM Model Performance by Scholarship holder:\n",
            " {1: {'0': {'precision': 0.8, 'recall': 0.42857142857142855, 'f1-score': 0.5581395348837209, 'support': 28}, '1': {'precision': 0.9139784946236559, 'recall': 0.9826589595375722, 'f1-score': 0.9470752089136489, 'support': 173}, 'accuracy': 0.9054726368159204, 'macro avg': {'precision': 0.8569892473118279, 'recall': 0.7056151940545003, 'f1-score': 0.752607371898685, 'support': 201}, 'weighted avg': {'precision': 0.8981008933825497, 'recall': 0.9054726368159204, 'f1-score': 0.8928951150189326, 'support': 201}}, 0: {'0': {'precision': 0.8817733990147784, 'recall': 0.6215277777777778, 'f1-score': 0.7291242362525459, 'support': 288}, '1': {'precision': 0.7733887733887734, 'recall': 0.9393939393939394, 'f1-score': 0.8483466362599773, 'support': 396}, 'accuracy': 0.8055555555555556, 'macro avg': {'precision': 0.8275810862017758, 'recall': 0.7804608585858586, 'f1-score': 0.7887354362562615, 'support': 684}, 'weighted avg': {'precision': 0.8190244052313018, 'recall': 0.8055555555555556, 'f1-score': 0.7981477309936905, 'support': 684}}}\n"
          ]
        }
      ]
    },
    {
      "cell_type": "code",
      "source": [
        "# Evaluate Random Forest model by Scholarship holder\n",
        "Scholarship_holder_rf = evaluate_by_group(best_rf_model, X_test, y_test, 'Scholarship holder')\n",
        "print(\"\\nRandom Forest Model Performance by Scholarship holder:\\n\", Scholarship_holder_rf)"
      ],
      "metadata": {
        "colab": {
          "base_uri": "https://localhost:8080/"
        },
        "id": "ZFEzbl7JMFo4",
        "outputId": "bb9d9360-9ed1-4911-cbc3-82b4c882aeba"
      },
      "execution_count": 156,
      "outputs": [
        {
          "output_type": "stream",
          "name": "stdout",
          "text": [
            "\n",
            "Random Forest Model Performance by Scholarship holder:\n",
            " {1: {'0': {'precision': 0.7619047619047619, 'recall': 0.5714285714285714, 'f1-score': 0.6530612244897959, 'support': 28}, '1': {'precision': 0.9333333333333333, 'recall': 0.9710982658959537, 'f1-score': 0.9518413597733711, 'support': 173}, 'accuracy': 0.9154228855721394, 'macro avg': {'precision': 0.8476190476190476, 'recall': 0.7712634186622626, 'f1-score': 0.8024512921315835, 'support': 201}, 'weighted avg': {'precision': 0.9094527363184081, 'recall': 0.9154228855721394, 'f1-score': 0.9102202464005348, 'support': 201}}, 0: {'0': {'precision': 0.84375, 'recall': 0.65625, 'f1-score': 0.73828125, 'support': 288}, '1': {'precision': 0.7847826086956522, 'recall': 0.9116161616161617, 'f1-score': 0.8434579439252338, 'support': 396}, 'accuracy': 0.804093567251462, 'macro avg': {'precision': 0.8142663043478261, 'recall': 0.7839330808080809, 'f1-score': 0.7908695969626169, 'support': 684}, 'weighted avg': {'precision': 0.8096109839816934, 'recall': 0.804093567251462, 'f1-score': 0.7991730201672407, 'support': 684}}}\n"
          ]
        }
      ]
    },
    {
      "cell_type": "code",
      "source": [
        "# Results from the tuned models\n",
        "results = {\n",
        "    'Model': ['Random Forest', 'SVM', 'Ensemble'],\n",
        "    'Accuracy': [0.8316, 0.8282, 0.8380],\n",
        "    'Precision': [0.8292, 0.8126, 0.8174]\n",
        "}\n",
        "\n",
        "# Convert to DataFrame\n",
        "results_df = pd.DataFrame(results)\n",
        "print(results_df)\n"
      ],
      "metadata": {
        "colab": {
          "base_uri": "https://localhost:8080/"
        },
        "id": "8sZj_CXdkM4n",
        "outputId": "ddff477b-9345-4a5f-8db5-aaec1ae3787d"
      },
      "execution_count": 26,
      "outputs": [
        {
          "output_type": "stream",
          "name": "stdout",
          "text": [
            "           Model  Accuracy  Precision\n",
            "0  Random Forest    0.8316     0.8292\n",
            "1            SVM    0.8282     0.8126\n",
            "2       Ensemble    0.8380     0.8174\n"
          ]
        }
      ]
    },
    {
      "cell_type": "code",
      "source": [
        "import matplotlib.pyplot as plt\n",
        "import seaborn as sns\n",
        "\n",
        "# Set plot style\n",
        "sns.set(style=\"whitegrid\")\n",
        "\n",
        "# Combined Bar Plot for Accuracy and Precision\n",
        "fig, ax = plt.subplots(figsize=(12, 6))\n",
        "bar_width = 0.35\n",
        "index = range(len(results_df))\n",
        "\n",
        "# Plot Accuracy bars\n",
        "bars1 = plt.bar(index, results_df['Accuracy'], bar_width, label='Accuracy', color='b')\n",
        "\n",
        "# Plot Precision bars\n",
        "bars2 = plt.bar([i + bar_width for i in index], results_df['Precision'], bar_width, label='Precision', color='orange')\n",
        "\n",
        "# Add labels, title, and legend\n",
        "plt.xlabel('Model')\n",
        "plt.ylabel('Score')\n",
        "plt.title('Accuracy and Precision of Models')\n",
        "plt.xticks([i + bar_width / 2 for i in index], results_df['Model'])\n",
        "plt.ylim(0.8, 0.85)\n",
        "plt.legend()\n",
        "\n",
        "# Display the plot\n",
        "plt.tight_layout()\n",
        "plt.show()\n"
      ],
      "metadata": {
        "colab": {
          "base_uri": "https://localhost:8080/",
          "height": 601
        },
        "id": "6Ye4vzCmk5wv",
        "outputId": "bc0bf6e0-fd66-449d-a99b-822f33ecbcb4"
      },
      "execution_count": 27,
      "outputs": [
        {
          "output_type": "display_data",
          "data": {
            "text/plain": [
              "<Figure size 1200x600 with 1 Axes>"
            ],
            "image/png": "[encoded data removed]"
          },
          "metadata": {}
        }
      ]
    }
  ]
}